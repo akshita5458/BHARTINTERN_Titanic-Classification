{
 "cells": [
  {
   "cell_type": "markdown",
   "metadata": {},
   "source": [
    "# Titanic Survival Classification"
   ]
  },
  {
   "cell_type": "code",
   "execution_count": 1,
   "metadata": {
    "execution": {
     "iopub.execute_input": "2023-09-30T19:04:43.168914Z",
     "iopub.status.busy": "2023-09-30T19:04:43.168594Z",
     "iopub.status.idle": "2023-09-30T19:04:44.261305Z",
     "shell.execute_reply": "2023-09-30T19:04:44.259966Z",
     "shell.execute_reply.started": "2023-09-30T19:04:43.168888Z"
    }
   },
   "outputs": [
    {
     "name": "stdout",
     "output_type": "stream",
     "text": [
      "Python 3.9.12\n"
     ]
    }
   ],
   "source": [
    "!python --version"
   ]
  },
  {
   "cell_type": "code",
   "execution_count": 2,
   "metadata": {
    "_cell_guid": "b1076dfc-b9ad-4769-8c92-a6c4dae69d19",
    "_uuid": "8f2839f25d086af736a60e9eeb907d3b93b6e0e5",
    "execution": {
     "iopub.execute_input": "2023-09-30T19:04:44.263545Z",
     "iopub.status.busy": "2023-09-30T19:04:44.263232Z",
     "iopub.status.idle": "2023-09-30T19:04:44.645423Z",
     "shell.execute_reply": "2023-09-30T19:04:44.644269Z",
     "shell.execute_reply.started": "2023-09-30T19:04:44.263518Z"
    }
   },
   "outputs": [],
   "source": [
    "import numpy as np \n",
    "import pandas as pd "
   ]
  },
  {
   "cell_type": "code",
   "execution_count": 3,
   "metadata": {
    "execution": {
     "iopub.execute_input": "2023-09-30T19:04:44.647044Z",
     "iopub.status.busy": "2023-09-30T19:04:44.646638Z",
     "iopub.status.idle": "2023-09-30T19:04:45.409503Z",
     "shell.execute_reply": "2023-09-30T19:04:45.408541Z",
     "shell.execute_reply.started": "2023-09-30T19:04:44.647014Z"
    }
   },
   "outputs": [
    {
     "name": "stderr",
     "output_type": "stream",
     "text": [
      "C:\\Users\\Dell\\anaconda3\\lib\\site-packages\\scipy\\__init__.py:146: UserWarning: A NumPy version >=1.16.5 and <1.23.0 is required for this version of SciPy (detected version 1.24.3\n",
      "  warnings.warn(f\"A NumPy version >={np_minversion} and <{np_maxversion}\"\n"
     ]
    }
   ],
   "source": [
    "import matplotlib.pyplot as plt\n",
    "import seaborn as sns\n",
    "\n",
    "import warnings\n",
    "warnings.filterwarnings('ignore') # To prevent kernel from showing any warning"
   ]
  },
  {
   "cell_type": "markdown",
   "metadata": {},
   "source": [
    "## Importing Data"
   ]
  },
  {
   "cell_type": "code",
   "execution_count": 4,
   "metadata": {
    "execution": {
     "iopub.execute_input": "2023-09-30T19:04:45.411985Z",
     "iopub.status.busy": "2023-09-30T19:04:45.411700Z",
     "iopub.status.idle": "2023-09-30T19:04:45.452201Z",
     "shell.execute_reply": "2023-09-30T19:04:45.451033Z",
     "shell.execute_reply.started": "2023-09-30T19:04:45.411960Z"
    }
   },
   "outputs": [
    {
     "data": {
      "text/html": [
       "<div>\n",
       "<style scoped>\n",
       "    .dataframe tbody tr th:only-of-type {\n",
       "        vertical-align: middle;\n",
       "    }\n",
       "\n",
       "    .dataframe tbody tr th {\n",
       "        vertical-align: top;\n",
       "    }\n",
       "\n",
       "    .dataframe thead th {\n",
       "        text-align: right;\n",
       "    }\n",
       "</style>\n",
       "<table border=\"1\" class=\"dataframe\">\n",
       "  <thead>\n",
       "    <tr style=\"text-align: right;\">\n",
       "      <th></th>\n",
       "      <th>PassengerId</th>\n",
       "      <th>Survived</th>\n",
       "      <th>Pclass</th>\n",
       "      <th>Name</th>\n",
       "      <th>Sex</th>\n",
       "      <th>Age</th>\n",
       "      <th>SibSp</th>\n",
       "      <th>Parch</th>\n",
       "      <th>Ticket</th>\n",
       "      <th>Fare</th>\n",
       "      <th>Cabin</th>\n",
       "      <th>Embarked</th>\n",
       "    </tr>\n",
       "  </thead>\n",
       "  <tbody>\n",
       "    <tr>\n",
       "      <th>0</th>\n",
       "      <td>892</td>\n",
       "      <td>0</td>\n",
       "      <td>3</td>\n",
       "      <td>Kelly, Mr. James</td>\n",
       "      <td>male</td>\n",
       "      <td>34.5</td>\n",
       "      <td>0</td>\n",
       "      <td>0</td>\n",
       "      <td>330911</td>\n",
       "      <td>7.8292</td>\n",
       "      <td>NaN</td>\n",
       "      <td>Q</td>\n",
       "    </tr>\n",
       "    <tr>\n",
       "      <th>1</th>\n",
       "      <td>893</td>\n",
       "      <td>1</td>\n",
       "      <td>3</td>\n",
       "      <td>Wilkes, Mrs. James (Ellen Needs)</td>\n",
       "      <td>female</td>\n",
       "      <td>47.0</td>\n",
       "      <td>1</td>\n",
       "      <td>0</td>\n",
       "      <td>363272</td>\n",
       "      <td>7.0000</td>\n",
       "      <td>NaN</td>\n",
       "      <td>S</td>\n",
       "    </tr>\n",
       "    <tr>\n",
       "      <th>2</th>\n",
       "      <td>894</td>\n",
       "      <td>0</td>\n",
       "      <td>2</td>\n",
       "      <td>Myles, Mr. Thomas Francis</td>\n",
       "      <td>male</td>\n",
       "      <td>62.0</td>\n",
       "      <td>0</td>\n",
       "      <td>0</td>\n",
       "      <td>240276</td>\n",
       "      <td>9.6875</td>\n",
       "      <td>NaN</td>\n",
       "      <td>Q</td>\n",
       "    </tr>\n",
       "    <tr>\n",
       "      <th>3</th>\n",
       "      <td>895</td>\n",
       "      <td>0</td>\n",
       "      <td>3</td>\n",
       "      <td>Wirz, Mr. Albert</td>\n",
       "      <td>male</td>\n",
       "      <td>27.0</td>\n",
       "      <td>0</td>\n",
       "      <td>0</td>\n",
       "      <td>315154</td>\n",
       "      <td>8.6625</td>\n",
       "      <td>NaN</td>\n",
       "      <td>S</td>\n",
       "    </tr>\n",
       "    <tr>\n",
       "      <th>4</th>\n",
       "      <td>896</td>\n",
       "      <td>1</td>\n",
       "      <td>3</td>\n",
       "      <td>Hirvonen, Mrs. Alexander (Helga E Lindqvist)</td>\n",
       "      <td>female</td>\n",
       "      <td>22.0</td>\n",
       "      <td>1</td>\n",
       "      <td>1</td>\n",
       "      <td>3101298</td>\n",
       "      <td>12.2875</td>\n",
       "      <td>NaN</td>\n",
       "      <td>S</td>\n",
       "    </tr>\n",
       "  </tbody>\n",
       "</table>\n",
       "</div>"
      ],
      "text/plain": [
       "   PassengerId  Survived  Pclass  \\\n",
       "0          892         0       3   \n",
       "1          893         1       3   \n",
       "2          894         0       2   \n",
       "3          895         0       3   \n",
       "4          896         1       3   \n",
       "\n",
       "                                           Name     Sex   Age  SibSp  Parch  \\\n",
       "0                              Kelly, Mr. James    male  34.5      0      0   \n",
       "1              Wilkes, Mrs. James (Ellen Needs)  female  47.0      1      0   \n",
       "2                     Myles, Mr. Thomas Francis    male  62.0      0      0   \n",
       "3                              Wirz, Mr. Albert    male  27.0      0      0   \n",
       "4  Hirvonen, Mrs. Alexander (Helga E Lindqvist)  female  22.0      1      1   \n",
       "\n",
       "    Ticket     Fare Cabin Embarked  \n",
       "0   330911   7.8292   NaN        Q  \n",
       "1   363272   7.0000   NaN        S  \n",
       "2   240276   9.6875   NaN        Q  \n",
       "3   315154   8.6625   NaN        S  \n",
       "4  3101298  12.2875   NaN        S  "
      ]
     },
     "execution_count": 4,
     "metadata": {},
     "output_type": "execute_result"
    }
   ],
   "source": [
    "df=pd.read_csv('titanic.csv')\n",
    "df.head()"
   ]
  },
  {
   "cell_type": "markdown",
   "metadata": {},
   "source": [
    "Survived : 0 = Dead 1 = Alive\n",
    "\n",
    "Pclass : 1 = First class 2 = Second class 3 = Third class\n",
    "\n",
    "SibSp : Number of siblings\n",
    "\n",
    "Parch : Parent and Children\n",
    "\n",
    "C = Cherbourg Q = Queenstown S = Southampton"
   ]
  },
  {
   "cell_type": "code",
   "execution_count": 5,
   "metadata": {
    "execution": {
     "iopub.execute_input": "2023-09-30T19:04:45.453850Z",
     "iopub.status.busy": "2023-09-30T19:04:45.453485Z",
     "iopub.status.idle": "2023-09-30T19:04:45.482475Z",
     "shell.execute_reply": "2023-09-30T19:04:45.481359Z",
     "shell.execute_reply.started": "2023-09-30T19:04:45.453822Z"
    }
   },
   "outputs": [
    {
     "name": "stdout",
     "output_type": "stream",
     "text": [
      "(418, 12)\n",
      "\n",
      "<class 'pandas.core.frame.DataFrame'>\n",
      "RangeIndex: 418 entries, 0 to 417\n",
      "Data columns (total 12 columns):\n",
      " #   Column       Non-Null Count  Dtype  \n",
      "---  ------       --------------  -----  \n",
      " 0   PassengerId  418 non-null    int64  \n",
      " 1   Survived     418 non-null    int64  \n",
      " 2   Pclass       418 non-null    int64  \n",
      " 3   Name         418 non-null    object \n",
      " 4   Sex          418 non-null    object \n",
      " 5   Age          332 non-null    float64\n",
      " 6   SibSp        418 non-null    int64  \n",
      " 7   Parch        418 non-null    int64  \n",
      " 8   Ticket       418 non-null    object \n",
      " 9   Fare         417 non-null    float64\n",
      " 10  Cabin        91 non-null     object \n",
      " 11  Embarked     418 non-null    object \n",
      "dtypes: float64(2), int64(5), object(5)\n",
      "memory usage: 39.3+ KB\n"
     ]
    }
   ],
   "source": [
    "print(df.shape)\n",
    "print(\"\")\n",
    "df.info()"
   ]
  },
  {
   "cell_type": "code",
   "execution_count": 6,
   "metadata": {
    "execution": {
     "iopub.execute_input": "2023-09-30T19:04:45.484343Z",
     "iopub.status.busy": "2023-09-30T19:04:45.483942Z",
     "iopub.status.idle": "2023-09-30T19:04:46.676501Z",
     "shell.execute_reply": "2023-09-30T19:04:46.675616Z",
     "shell.execute_reply.started": "2023-09-30T19:04:45.484305Z"
    }
   },
   "outputs": [
    {
     "data": {
      "image/png": "[encoded data removed]",
      "text/plain": [
       "<Figure size 1008x1008 with 5 Axes>"
      ]
     },
     "metadata": {
      "needs_background": "light"
     },
     "output_type": "display_data"
    }
   ],
   "source": [
    "# data visualisation before cleaning data \n",
    "\n",
    "plt.figure(figsize=(14,14))\n",
    "plt.subplot(3,2,1)\n",
    "sns.boxplot(x='Sex', y = 'Age',data= df)\n",
    "# 'male': 1, 'female': 0\n",
    "\n",
    "plt.subplot(3,2,2)\n",
    "sns.distplot(df['Fare'],color='g')\n",
    "\n",
    "plt.subplot(3,2,3)\n",
    "sns.distplot(df['Age'],color='g')\n",
    "\n",
    "plt.subplot(3,2,4)\n",
    "sns.countplot(x='Sex', data=df)\n",
    "\n",
    "plt.subplot(3,2,5)\n",
    "sns.histplot(df['Age'])\n",
    "\n",
    "\n",
    "plt.tight_layout()\n",
    "plt.show()"
   ]
  },
  {
   "cell_type": "markdown",
   "metadata": {},
   "source": [
    "## Data Cleaning"
   ]
  },
  {
   "cell_type": "code",
   "execution_count": 7,
   "metadata": {
    "execution": {
     "iopub.execute_input": "2023-09-30T19:04:46.678072Z",
     "iopub.status.busy": "2023-09-30T19:04:46.677609Z",
     "iopub.status.idle": "2023-09-30T19:04:46.683159Z",
     "shell.execute_reply": "2023-09-30T19:04:46.682145Z",
     "shell.execute_reply.started": "2023-09-30T19:04:46.678031Z"
    }
   },
   "outputs": [],
   "source": [
    "df.drop(columns=['PassengerId','Name','Embarked','Cabin'],inplace=True)"
   ]
  },
  {
   "cell_type": "code",
   "execution_count": 8,
   "metadata": {
    "execution": {
     "iopub.execute_input": "2023-09-30T19:04:46.684766Z",
     "iopub.status.busy": "2023-09-30T19:04:46.684124Z",
     "iopub.status.idle": "2023-09-30T19:04:46.705514Z",
     "shell.execute_reply": "2023-09-30T19:04:46.704582Z",
     "shell.execute_reply.started": "2023-09-30T19:04:46.684730Z"
    }
   },
   "outputs": [
    {
     "data": {
      "text/html": [
       "<div>\n",
       "<style scoped>\n",
       "    .dataframe tbody tr th:only-of-type {\n",
       "        vertical-align: middle;\n",
       "    }\n",
       "\n",
       "    .dataframe tbody tr th {\n",
       "        vertical-align: top;\n",
       "    }\n",
       "\n",
       "    .dataframe thead th {\n",
       "        text-align: right;\n",
       "    }\n",
       "</style>\n",
       "<table border=\"1\" class=\"dataframe\">\n",
       "  <thead>\n",
       "    <tr style=\"text-align: right;\">\n",
       "      <th></th>\n",
       "      <th>Survived</th>\n",
       "      <th>Pclass</th>\n",
       "      <th>Sex</th>\n",
       "      <th>Age</th>\n",
       "      <th>SibSp</th>\n",
       "      <th>Parch</th>\n",
       "      <th>Ticket</th>\n",
       "      <th>Fare</th>\n",
       "    </tr>\n",
       "  </thead>\n",
       "  <tbody>\n",
       "    <tr>\n",
       "      <th>0</th>\n",
       "      <td>0</td>\n",
       "      <td>3</td>\n",
       "      <td>male</td>\n",
       "      <td>34.5</td>\n",
       "      <td>0</td>\n",
       "      <td>0</td>\n",
       "      <td>330911</td>\n",
       "      <td>7.8292</td>\n",
       "    </tr>\n",
       "    <tr>\n",
       "      <th>1</th>\n",
       "      <td>1</td>\n",
       "      <td>3</td>\n",
       "      <td>female</td>\n",
       "      <td>47.0</td>\n",
       "      <td>1</td>\n",
       "      <td>0</td>\n",
       "      <td>363272</td>\n",
       "      <td>7.0000</td>\n",
       "    </tr>\n",
       "    <tr>\n",
       "      <th>2</th>\n",
       "      <td>0</td>\n",
       "      <td>2</td>\n",
       "      <td>male</td>\n",
       "      <td>62.0</td>\n",
       "      <td>0</td>\n",
       "      <td>0</td>\n",
       "      <td>240276</td>\n",
       "      <td>9.6875</td>\n",
       "    </tr>\n",
       "    <tr>\n",
       "      <th>3</th>\n",
       "      <td>0</td>\n",
       "      <td>3</td>\n",
       "      <td>male</td>\n",
       "      <td>27.0</td>\n",
       "      <td>0</td>\n",
       "      <td>0</td>\n",
       "      <td>315154</td>\n",
       "      <td>8.6625</td>\n",
       "    </tr>\n",
       "    <tr>\n",
       "      <th>4</th>\n",
       "      <td>1</td>\n",
       "      <td>3</td>\n",
       "      <td>female</td>\n",
       "      <td>22.0</td>\n",
       "      <td>1</td>\n",
       "      <td>1</td>\n",
       "      <td>3101298</td>\n",
       "      <td>12.2875</td>\n",
       "    </tr>\n",
       "  </tbody>\n",
       "</table>\n",
       "</div>"
      ],
      "text/plain": [
       "   Survived  Pclass     Sex   Age  SibSp  Parch   Ticket     Fare\n",
       "0         0       3    male  34.5      0      0   330911   7.8292\n",
       "1         1       3  female  47.0      1      0   363272   7.0000\n",
       "2         0       2    male  62.0      0      0   240276   9.6875\n",
       "3         0       3    male  27.0      0      0   315154   8.6625\n",
       "4         1       3  female  22.0      1      1  3101298  12.2875"
      ]
     },
     "execution_count": 8,
     "metadata": {},
     "output_type": "execute_result"
    }
   ],
   "source": [
    "df.head()"
   ]
  },
  {
   "cell_type": "code",
   "execution_count": 9,
   "metadata": {
    "execution": {
     "iopub.execute_input": "2023-09-30T19:04:46.707796Z",
     "iopub.status.busy": "2023-09-30T19:04:46.706833Z",
     "iopub.status.idle": "2023-09-30T19:04:46.724371Z",
     "shell.execute_reply": "2023-09-30T19:04:46.723193Z",
     "shell.execute_reply.started": "2023-09-30T19:04:46.707764Z"
    }
   },
   "outputs": [
    {
     "data": {
      "text/plain": [
       "1    266\n",
       "0    152\n",
       "Name: Sex, dtype: int64"
      ]
     },
     "execution_count": 9,
     "metadata": {},
     "output_type": "execute_result"
    }
   ],
   "source": [
    "df['Sex'] = df['Sex'].map({'male': 1, 'female': 0})\n",
    "\n",
    "df['Sex'].value_counts()"
   ]
  },
  {
   "cell_type": "code",
   "execution_count": 10,
   "metadata": {
    "execution": {
     "iopub.execute_input": "2023-09-30T19:04:46.728156Z",
     "iopub.status.busy": "2023-09-30T19:04:46.727678Z",
     "iopub.status.idle": "2023-09-30T19:04:46.738758Z",
     "shell.execute_reply": "2023-09-30T19:04:46.737604Z",
     "shell.execute_reply.started": "2023-09-30T19:04:46.728128Z"
    }
   },
   "outputs": [
    {
     "data": {
      "text/plain": [
       "Survived     0\n",
       "Pclass       0\n",
       "Sex          0\n",
       "Age         86\n",
       "SibSp        0\n",
       "Parch        0\n",
       "Ticket       0\n",
       "Fare         1\n",
       "dtype: int64"
      ]
     },
     "execution_count": 10,
     "metadata": {},
     "output_type": "execute_result"
    }
   ],
   "source": [
    "df.isna().sum()"
   ]
  },
  {
   "cell_type": "code",
   "execution_count": 11,
   "metadata": {
    "execution": {
     "iopub.execute_input": "2023-09-30T19:04:46.740880Z",
     "iopub.status.busy": "2023-09-30T19:04:46.740136Z",
     "iopub.status.idle": "2023-09-30T19:04:46.753378Z",
     "shell.execute_reply": "2023-09-30T19:04:46.752538Z",
     "shell.execute_reply.started": "2023-09-30T19:04:46.740852Z"
    }
   },
   "outputs": [],
   "source": [
    "df['Age'] = df['Age'].fillna(df['Age'].median())\n",
    "df['Fare'] = df['Fare'].fillna(df['Fare'].median())"
   ]
  },
  {
   "cell_type": "code",
   "execution_count": 12,
   "metadata": {
    "execution": {
     "iopub.execute_input": "2023-09-30T19:04:46.754848Z",
     "iopub.status.busy": "2023-09-30T19:04:46.754315Z",
     "iopub.status.idle": "2023-09-30T19:04:46.769369Z",
     "shell.execute_reply": "2023-09-30T19:04:46.768620Z",
     "shell.execute_reply.started": "2023-09-30T19:04:46.754822Z"
    }
   },
   "outputs": [
    {
     "data": {
      "text/plain": [
       "Survived    0\n",
       "Pclass      0\n",
       "Sex         0\n",
       "Age         0\n",
       "SibSp       0\n",
       "Parch       0\n",
       "Ticket      0\n",
       "Fare        0\n",
       "dtype: int64"
      ]
     },
     "execution_count": 12,
     "metadata": {},
     "output_type": "execute_result"
    }
   ],
   "source": [
    "df.isna().sum()"
   ]
  },
  {
   "cell_type": "code",
   "execution_count": 13,
   "metadata": {
    "execution": {
     "iopub.execute_input": "2023-09-30T19:04:46.770848Z",
     "iopub.status.busy": "2023-09-30T19:04:46.770417Z",
     "iopub.status.idle": "2023-09-30T19:04:46.786581Z",
     "shell.execute_reply": "2023-09-30T19:04:46.785274Z",
     "shell.execute_reply.started": "2023-09-30T19:04:46.770821Z"
    }
   },
   "outputs": [],
   "source": [
    "import re\n",
    "df['Ticket'] = df['Ticket'].apply(lambda x: re.sub(r'\\D', '', x))"
   ]
  },
  {
   "cell_type": "code",
   "execution_count": 14,
   "metadata": {
    "execution": {
     "iopub.execute_input": "2023-09-30T19:04:46.788145Z",
     "iopub.status.busy": "2023-09-30T19:04:46.787815Z",
     "iopub.status.idle": "2023-09-30T19:04:46.805785Z",
     "shell.execute_reply": "2023-09-30T19:04:46.804462Z",
     "shell.execute_reply.started": "2023-09-30T19:04:46.788107Z"
    }
   },
   "outputs": [
    {
     "name": "stdout",
     "output_type": "stream",
     "text": [
      "<class 'pandas.core.frame.DataFrame'>\n",
      "RangeIndex: 418 entries, 0 to 417\n",
      "Data columns (total 8 columns):\n",
      " #   Column    Non-Null Count  Dtype  \n",
      "---  ------    --------------  -----  \n",
      " 0   Survived  418 non-null    int64  \n",
      " 1   Pclass    418 non-null    int64  \n",
      " 2   Sex       418 non-null    int64  \n",
      " 3   Age       418 non-null    float64\n",
      " 4   SibSp     418 non-null    int64  \n",
      " 5   Parch     418 non-null    int64  \n",
      " 6   Ticket    418 non-null    object \n",
      " 7   Fare      418 non-null    float64\n",
      "dtypes: float64(2), int64(5), object(1)\n",
      "memory usage: 26.2+ KB\n"
     ]
    }
   ],
   "source": [
    "df.info()"
   ]
  },
  {
   "cell_type": "code",
   "execution_count": 15,
   "metadata": {
    "execution": {
     "iopub.execute_input": "2023-09-30T19:04:46.808205Z",
     "iopub.status.busy": "2023-09-30T19:04:46.807195Z",
     "iopub.status.idle": "2023-09-30T19:04:46.834992Z",
     "shell.execute_reply": "2023-09-30T19:04:46.834317Z",
     "shell.execute_reply.started": "2023-09-30T19:04:46.808173Z"
    }
   },
   "outputs": [
    {
     "data": {
      "text/html": [
       "<div>\n",
       "<style scoped>\n",
       "    .dataframe tbody tr th:only-of-type {\n",
       "        vertical-align: middle;\n",
       "    }\n",
       "\n",
       "    .dataframe tbody tr th {\n",
       "        vertical-align: top;\n",
       "    }\n",
       "\n",
       "    .dataframe thead th {\n",
       "        text-align: right;\n",
       "    }\n",
       "</style>\n",
       "<table border=\"1\" class=\"dataframe\">\n",
       "  <thead>\n",
       "    <tr style=\"text-align: right;\">\n",
       "      <th></th>\n",
       "      <th>Survived</th>\n",
       "      <th>Pclass</th>\n",
       "      <th>Sex</th>\n",
       "      <th>Age</th>\n",
       "      <th>SibSp</th>\n",
       "      <th>Parch</th>\n",
       "      <th>Fare</th>\n",
       "    </tr>\n",
       "  </thead>\n",
       "  <tbody>\n",
       "    <tr>\n",
       "      <th>count</th>\n",
       "      <td>418.000000</td>\n",
       "      <td>418.000000</td>\n",
       "      <td>418.000000</td>\n",
       "      <td>418.000000</td>\n",
       "      <td>418.000000</td>\n",
       "      <td>418.000000</td>\n",
       "      <td>418.000000</td>\n",
       "    </tr>\n",
       "    <tr>\n",
       "      <th>mean</th>\n",
       "      <td>0.363636</td>\n",
       "      <td>2.265550</td>\n",
       "      <td>0.636364</td>\n",
       "      <td>29.599282</td>\n",
       "      <td>0.447368</td>\n",
       "      <td>0.392344</td>\n",
       "      <td>35.576535</td>\n",
       "    </tr>\n",
       "    <tr>\n",
       "      <th>std</th>\n",
       "      <td>0.481622</td>\n",
       "      <td>0.841838</td>\n",
       "      <td>0.481622</td>\n",
       "      <td>12.703770</td>\n",
       "      <td>0.896760</td>\n",
       "      <td>0.981429</td>\n",
       "      <td>55.850103</td>\n",
       "    </tr>\n",
       "    <tr>\n",
       "      <th>min</th>\n",
       "      <td>0.000000</td>\n",
       "      <td>1.000000</td>\n",
       "      <td>0.000000</td>\n",
       "      <td>0.170000</td>\n",
       "      <td>0.000000</td>\n",
       "      <td>0.000000</td>\n",
       "      <td>0.000000</td>\n",
       "    </tr>\n",
       "    <tr>\n",
       "      <th>25%</th>\n",
       "      <td>0.000000</td>\n",
       "      <td>1.000000</td>\n",
       "      <td>0.000000</td>\n",
       "      <td>23.000000</td>\n",
       "      <td>0.000000</td>\n",
       "      <td>0.000000</td>\n",
       "      <td>7.895800</td>\n",
       "    </tr>\n",
       "    <tr>\n",
       "      <th>50%</th>\n",
       "      <td>0.000000</td>\n",
       "      <td>3.000000</td>\n",
       "      <td>1.000000</td>\n",
       "      <td>27.000000</td>\n",
       "      <td>0.000000</td>\n",
       "      <td>0.000000</td>\n",
       "      <td>14.454200</td>\n",
       "    </tr>\n",
       "    <tr>\n",
       "      <th>75%</th>\n",
       "      <td>1.000000</td>\n",
       "      <td>3.000000</td>\n",
       "      <td>1.000000</td>\n",
       "      <td>35.750000</td>\n",
       "      <td>1.000000</td>\n",
       "      <td>0.000000</td>\n",
       "      <td>31.471875</td>\n",
       "    </tr>\n",
       "    <tr>\n",
       "      <th>max</th>\n",
       "      <td>1.000000</td>\n",
       "      <td>3.000000</td>\n",
       "      <td>1.000000</td>\n",
       "      <td>76.000000</td>\n",
       "      <td>8.000000</td>\n",
       "      <td>9.000000</td>\n",
       "      <td>512.329200</td>\n",
       "    </tr>\n",
       "  </tbody>\n",
       "</table>\n",
       "</div>"
      ],
      "text/plain": [
       "         Survived      Pclass         Sex         Age       SibSp       Parch  \\\n",
       "count  418.000000  418.000000  418.000000  418.000000  418.000000  418.000000   \n",
       "mean     0.363636    2.265550    0.636364   29.599282    0.447368    0.392344   \n",
       "std      0.481622    0.841838    0.481622   12.703770    0.896760    0.981429   \n",
       "min      0.000000    1.000000    0.000000    0.170000    0.000000    0.000000   \n",
       "25%      0.000000    1.000000    0.000000   23.000000    0.000000    0.000000   \n",
       "50%      0.000000    3.000000    1.000000   27.000000    0.000000    0.000000   \n",
       "75%      1.000000    3.000000    1.000000   35.750000    1.000000    0.000000   \n",
       "max      1.000000    3.000000    1.000000   76.000000    8.000000    9.000000   \n",
       "\n",
       "             Fare  \n",
       "count  418.000000  \n",
       "mean    35.576535  \n",
       "std     55.850103  \n",
       "min      0.000000  \n",
       "25%      7.895800  \n",
       "50%     14.454200  \n",
       "75%     31.471875  \n",
       "max    512.329200  "
      ]
     },
     "execution_count": 15,
     "metadata": {},
     "output_type": "execute_result"
    }
   ],
   "source": [
    "df.describe()"
   ]
  },
  {
   "cell_type": "markdown",
   "metadata": {},
   "source": [
    "## Data Visualisation"
   ]
  },
  {
   "cell_type": "code",
   "execution_count": 16,
   "metadata": {
    "execution": {
     "iopub.execute_input": "2023-09-30T19:04:46.837169Z",
     "iopub.status.busy": "2023-09-30T19:04:46.836173Z",
     "iopub.status.idle": "2023-09-30T19:04:47.974709Z",
     "shell.execute_reply": "2023-09-30T19:04:47.973706Z",
     "shell.execute_reply.started": "2023-09-30T19:04:46.837131Z"
    }
   },
   "outputs": [
    {
     "data": {
      "image/png": "[encoded data removed]",
      "text/plain": [
       "<Figure size 1008x1008 with 5 Axes>"
      ]
     },
     "metadata": {
      "needs_background": "light"
     },
     "output_type": "display_data"
    }
   ],
   "source": [
    "plt.figure(figsize=(14,14))\n",
    "plt.subplot(3,2,1)\n",
    "sns.boxplot(x='Sex', y = 'Age',data= df)\n",
    "# 'male': 1, 'female': 0\n",
    "\n",
    "plt.subplot(3,2,2)\n",
    "sns.distplot(df['Fare'],color='g')\n",
    "\n",
    "plt.subplot(3,2,3)\n",
    "sns.distplot(df['Age'],color='g')\n",
    "\n",
    "plt.subplot(3,2,4)\n",
    "sns.countplot(x='Sex', data=df)\n",
    "\n",
    "plt.subplot(3,2,5)\n",
    "sns.histplot(df['Age'])\n",
    "\n",
    "\n",
    "plt.tight_layout()\n",
    "plt.show()"
   ]
  },
  {
   "cell_type": "markdown",
   "metadata": {},
   "source": [
    "##### Note: 'male': 1, 'female': 0"
   ]
  },
  {
   "cell_type": "code",
   "execution_count": 17,
   "metadata": {
    "execution": {
     "iopub.execute_input": "2023-09-30T19:04:47.977280Z",
     "iopub.status.busy": "2023-09-30T19:04:47.976258Z",
     "iopub.status.idle": "2023-09-30T19:04:48.223953Z",
     "shell.execute_reply": "2023-09-30T19:04:48.223232Z",
     "shell.execute_reply.started": "2023-09-30T19:04:47.977231Z"
    }
   },
   "outputs": [
    {
     "data": {
      "image/png": "[encoded data removed]",
      "text/plain": [
       "<Figure size 432x288 with 1 Axes>"
      ]
     },
     "metadata": {
      "needs_background": "light"
     },
     "output_type": "display_data"
    }
   ],
   "source": [
    "sns.countplot(x='Pclass',data=df,hue='Survived')\n",
    "legend_labels = {0: 'Not Survived', 1: 'Survived'}\n",
    "plt.legend(title='Survived', labels=[f\"{key} = {value}\" for key, value in legend_labels.items()])\n",
    "plt.title('diffrent Pclass by Survival Status')\n",
    "plt.show()"
   ]
  },
  {
   "cell_type": "code",
   "execution_count": 18,
   "metadata": {
    "execution": {
     "iopub.execute_input": "2023-09-30T19:04:48.225492Z",
     "iopub.status.busy": "2023-09-30T19:04:48.225042Z",
     "iopub.status.idle": "2023-09-30T19:04:48.678931Z",
     "shell.execute_reply": "2023-09-30T19:04:48.677907Z",
     "shell.execute_reply.started": "2023-09-30T19:04:48.225466Z"
    }
   },
   "outputs": [
    {
     "data": {
      "image/png": "[encoded data removed]",
      "text/plain": [
       "<Figure size 432x288 with 1 Axes>"
      ]
     },
     "metadata": {
      "needs_background": "light"
     },
     "output_type": "display_data"
    }
   ],
   "source": [
    "sns.histplot(data=df[df['Survived'] == 1], x='Age', kde=True, color='blue', label='Survived')\n",
    "sns.histplot(data=df[df['Survived'] == 0], x='Age', kde=True, color='red', label='Not Survived')\n",
    "\n",
    "plt.xlabel('Age')\n",
    "plt.ylabel('Density')\n",
    "plt.title('Age Distribution by Survival Status')\n",
    "\n",
    "plt.legend(title='Survival Status')\n",
    "\n",
    "plt.show()"
   ]
  },
  {
   "cell_type": "code",
   "execution_count": 19,
   "metadata": {
    "execution": {
     "iopub.execute_input": "2023-09-30T19:04:48.681139Z",
     "iopub.status.busy": "2023-09-30T19:04:48.680493Z",
     "iopub.status.idle": "2023-09-30T19:04:49.296785Z",
     "shell.execute_reply": "2023-09-30T19:04:49.295815Z",
     "shell.execute_reply.started": "2023-09-30T19:04:48.681101Z"
    }
   },
   "outputs": [
    {
     "data": {
      "text/plain": [
       "<AxesSubplot:>"
      ]
     },
     "execution_count": 19,
     "metadata": {},
     "output_type": "execute_result"
    },
    {
     "data": {
      "image/png": "[encoded data removed]",
      "text/plain": [
       "<Figure size 864x576 with 2 Axes>"
      ]
     },
     "metadata": {
      "needs_background": "light"
     },
     "output_type": "display_data"
    }
   ],
   "source": [
    "plt.figure(figsize=[12,8])\n",
    "sns.heatmap(df.corr(),annot=True)"
   ]
  },
  {
   "cell_type": "markdown",
   "metadata": {},
   "source": [
    "## ML Modeling"
   ]
  },
  {
   "cell_type": "code",
   "execution_count": 20,
   "metadata": {
    "execution": {
     "iopub.execute_input": "2023-09-30T19:04:49.299151Z",
     "iopub.status.busy": "2023-09-30T19:04:49.298460Z",
     "iopub.status.idle": "2023-09-30T19:04:49.830086Z",
     "shell.execute_reply": "2023-09-30T19:04:49.829331Z",
     "shell.execute_reply.started": "2023-09-30T19:04:49.299112Z"
    }
   },
   "outputs": [],
   "source": [
    "from sklearn.model_selection import train_test_split\n",
    "from sklearn.model_selection import train_test_split \n",
    "from sklearn.preprocessing import LabelEncoder\n",
    "from sklearn.linear_model import LogisticRegression\n",
    "from sklearn.tree import DecisionTreeClassifier\n",
    "from sklearn.ensemble import RandomForestClassifier, GradientBoostingClassifier\n",
    "from sklearn.svm import SVC\n",
    "from sklearn.neighbors import KNeighborsClassifier\n",
    "from sklearn.neural_network import MLPClassifier\n",
    "from sklearn import metrics\n",
    "from sklearn.preprocessing import StandardScaler\n",
    "from sklearn.metrics import accuracy_score, classification_report\n",
    "%matplotlib inline"
   ]
  },
  {
   "cell_type": "code",
   "execution_count": 21,
   "metadata": {
    "execution": {
     "iopub.execute_input": "2023-09-30T19:04:49.831996Z",
     "iopub.status.busy": "2023-09-30T19:04:49.831431Z",
     "iopub.status.idle": "2023-09-30T19:04:49.838532Z",
     "shell.execute_reply": "2023-09-30T19:04:49.837800Z",
     "shell.execute_reply.started": "2023-09-30T19:04:49.831968Z"
    }
   },
   "outputs": [],
   "source": [
    "x = df.drop(['Survived'],axis=1)\n",
    "y = df['Survived']\n",
    "\n",
    "X_train, X_test, Y_train, Y_test = train_test_split(x, y, test_size = 0.2, random_state = 30)"
   ]
  },
  {
   "cell_type": "code",
   "execution_count": 22,
   "metadata": {
    "execution": {
     "iopub.execute_input": "2023-09-30T19:04:49.840355Z",
     "iopub.status.busy": "2023-09-30T19:04:49.839775Z",
     "iopub.status.idle": "2023-09-30T19:04:49.860753Z",
     "shell.execute_reply": "2023-09-30T19:04:49.859661Z",
     "shell.execute_reply.started": "2023-09-30T19:04:49.840327Z"
    }
   },
   "outputs": [],
   "source": [
    "scaler = StandardScaler()\n",
    "X_train_scaled = scaler.fit_transform(X_train)\n",
    "X_test_scaled = scaler.transform(X_test)"
   ]
  },
  {
   "cell_type": "markdown",
   "metadata": {},
   "source": [
    "## Model Building"
   ]
  },
  {
   "cell_type": "code",
   "execution_count": 23,
   "metadata": {
    "execution": {
     "iopub.execute_input": "2023-09-30T19:04:49.862241Z",
     "iopub.status.busy": "2023-09-30T19:04:49.861918Z",
     "iopub.status.idle": "2023-09-30T19:04:49.875763Z",
     "shell.execute_reply": "2023-09-30T19:04:49.874772Z",
     "shell.execute_reply.started": "2023-09-30T19:04:49.862207Z"
    }
   },
   "outputs": [],
   "source": [
    "models = {'Logistic Regression': LogisticRegression(),\n",
    "          'Decision Tree': DecisionTreeClassifier(),\n",
    "          'Random Forest': RandomForestClassifier(),\n",
    "          'Support Vector Machine': SVC(),\n",
    "          'Gradient Boosting': GradientBoostingClassifier(),\n",
    "          'K-Nearest Neighbors': KNeighborsClassifier(),\n",
    "          'Neural Network': MLPClassifier(max_iter=1000)  \n",
    "          }"
   ]
  },
  {
   "cell_type": "code",
   "execution_count": 24,
   "metadata": {
    "execution": {
     "iopub.execute_input": "2023-09-30T19:04:49.877712Z",
     "iopub.status.busy": "2023-09-30T19:04:49.877173Z",
     "iopub.status.idle": "2023-09-30T19:04:50.241979Z",
     "shell.execute_reply": "2023-09-30T19:04:50.238964Z",
     "shell.execute_reply.started": "2023-09-30T19:04:49.877684Z"
    }
   },
   "outputs": [
    {
     "name": "stdout",
     "output_type": "stream",
     "text": [
      "Logistic Regression - Accuracy: 0.63\n",
      "Classification Report:\n",
      "              precision    recall  f1-score   support\n",
      "\n",
      "           0       0.63      1.00      0.77        53\n",
      "           1       0.00      0.00      0.00        31\n",
      "\n",
      "    accuracy                           0.63        84\n",
      "   macro avg       0.32      0.50      0.39        84\n",
      "weighted avg       0.40      0.63      0.49        84\n",
      "\n",
      "\n",
      "Decision Tree - Accuracy: 1.00\n",
      "Classification Report:\n",
      "              precision    recall  f1-score   support\n",
      "\n",
      "           0       1.00      1.00      1.00        53\n",
      "           1       1.00      1.00      1.00        31\n",
      "\n",
      "    accuracy                           1.00        84\n",
      "   macro avg       1.00      1.00      1.00        84\n",
      "weighted avg       1.00      1.00      1.00        84\n",
      "\n",
      "\n",
      "Random Forest - Accuracy: 1.00\n",
      "Classification Report:\n",
      "              precision    recall  f1-score   support\n",
      "\n",
      "           0       1.00      1.00      1.00        53\n",
      "           1       1.00      1.00      1.00        31\n",
      "\n",
      "    accuracy                           1.00        84\n",
      "   macro avg       1.00      1.00      1.00        84\n",
      "weighted avg       1.00      1.00      1.00        84\n",
      "\n",
      "\n",
      "Support Vector Machine - Accuracy: 0.63\n",
      "Classification Report:\n",
      "              precision    recall  f1-score   support\n",
      "\n",
      "           0       0.63      1.00      0.77        53\n",
      "           1       0.00      0.00      0.00        31\n",
      "\n",
      "    accuracy                           0.63        84\n",
      "   macro avg       0.32      0.50      0.39        84\n",
      "weighted avg       0.40      0.63      0.49        84\n",
      "\n",
      "\n",
      "Gradient Boosting - Accuracy: 1.00\n",
      "Classification Report:\n",
      "              precision    recall  f1-score   support\n",
      "\n",
      "           0       1.00      1.00      1.00        53\n",
      "           1       1.00      1.00      1.00        31\n",
      "\n",
      "    accuracy                           1.00        84\n",
      "   macro avg       1.00      1.00      1.00        84\n",
      "weighted avg       1.00      1.00      1.00        84\n",
      "\n",
      "\n",
      "K-Nearest Neighbors - Accuracy: 0.61\n",
      "Classification Report:\n",
      "              precision    recall  f1-score   support\n",
      "\n",
      "           0       0.69      0.70      0.69        53\n",
      "           1       0.47      0.45      0.46        31\n",
      "\n",
      "    accuracy                           0.61        84\n",
      "   macro avg       0.58      0.57      0.58        84\n",
      "weighted avg       0.60      0.61      0.61        84\n",
      "\n",
      "\n",
      "Neural Network - Accuracy: 0.37\n",
      "Classification Report:\n",
      "              precision    recall  f1-score   support\n",
      "\n",
      "           0       0.00      0.00      0.00        53\n",
      "           1       0.37      1.00      0.54        31\n",
      "\n",
      "    accuracy                           0.37        84\n",
      "   macro avg       0.18      0.50      0.27        84\n",
      "weighted avg       0.14      0.37      0.20        84\n",
      "\n",
      "\n"
     ]
    }
   ],
   "source": [
    "for model_name, model in models.items():\n",
    "    model.fit(X_train, Y_train)\n",
    "    Y_pred = model.predict(X_test)\n",
    "    accuracy = accuracy_score(Y_test, Y_pred)\n",
    "    report = classification_report(Y_test, Y_pred)  # Compute classification report\n",
    "    print(f\"{model_name} - Accuracy: {accuracy:.2f}\")\n",
    "    print(f\"Classification Report:\\n{report}\\n\")"
   ]
  },
  {
   "cell_type": "markdown",
   "metadata": {},
   "source": [
    "##### Only 3 models (Decision Tree, Random Forest, Gradient Boosting) out of 6 models proviedes 100% accuracy (i.e 1.0)"
   ]
  },
  {
   "cell_type": "markdown",
   "metadata": {},
   "source": [
    "## ML Modeling"
   ]
  },
  {
   "cell_type": "code",
   "execution_count": 25,
   "metadata": {
    "execution": {
     "iopub.execute_input": "2023-09-30T19:04:50.244006Z",
     "iopub.status.busy": "2023-09-30T19:04:50.243625Z",
     "iopub.status.idle": "2023-09-30T19:04:50.250566Z",
     "shell.execute_reply": "2023-09-30T19:04:50.249319Z",
     "shell.execute_reply.started": "2023-09-30T19:04:50.243970Z"
    }
   },
   "outputs": [],
   "source": [
    "from sklearn.preprocessing import MinMaxScaler\n",
    "from sklearn.ensemble import RandomForestClassifier\n",
    "from sklearn.metrics import classification_report\n",
    "rand = RandomForestClassifier()\n",
    "normal = MinMaxScaler()"
   ]
  },
  {
   "cell_type": "code",
   "execution_count": 26,
   "metadata": {
    "execution": {
     "iopub.execute_input": "2023-09-30T19:04:50.252491Z",
     "iopub.status.busy": "2023-09-30T19:04:50.251925Z",
     "iopub.status.idle": "2023-09-30T19:04:50.275902Z",
     "shell.execute_reply": "2023-09-30T19:04:50.274335Z",
     "shell.execute_reply.started": "2023-09-30T19:04:50.252453Z"
    }
   },
   "outputs": [],
   "source": [
    "normal_fit = normal.fit(X_train)\n",
    "new_xtrain = normal_fit.transform(X_train)\n",
    "new_xtest = normal_fit.transform(X_test)"
   ]
  },
  {
   "cell_type": "code",
   "execution_count": 27,
   "metadata": {
    "execution": {
     "iopub.execute_input": "2023-09-30T19:04:50.278781Z",
     "iopub.status.busy": "2023-09-30T19:04:50.277923Z",
     "iopub.status.idle": "2023-09-30T19:04:50.468876Z",
     "shell.execute_reply": "2023-09-30T19:04:50.467743Z",
     "shell.execute_reply.started": "2023-09-30T19:04:50.278738Z"
    }
   },
   "outputs": [
    {
     "name": "stdout",
     "output_type": "stream",
     "text": [
      "Score of model is :  100.0 %\n"
     ]
    }
   ],
   "source": [
    "fit_rand = rand.fit(new_xtrain, Y_train)\n",
    "#predicting score\n",
    "rand_score = rand.score(new_xtest, Y_test)\n",
    "print('Score of model is : ', rand_score*100,'%')"
   ]
  },
  {
   "cell_type": "code",
   "execution_count": 28,
   "metadata": {
    "execution": {
     "iopub.execute_input": "2023-09-30T19:04:50.474580Z",
     "iopub.status.busy": "2023-09-30T19:04:50.473670Z",
     "iopub.status.idle": "2023-09-30T19:04:50.496526Z",
     "shell.execute_reply": "2023-09-30T19:04:50.495105Z",
     "shell.execute_reply.started": "2023-09-30T19:04:50.474536Z"
    },
    "scrolled": true
   },
   "outputs": [
    {
     "name": "stdout",
     "output_type": "stream",
     "text": [
      "     predicted_values  original_values\n",
      "345                 1                1\n",
      "378                 0                0\n",
      "178                 1                1\n",
      "367                 1                1\n",
      "191                 0                0\n",
      "60                  0                0\n",
      "201                 0                0\n",
      "183                 0                0\n",
      "364                 1                1\n",
      "200                 1                1\n",
      "\n",
      "Here O = not survived and 1 = survived\n"
     ]
    }
   ],
   "source": [
    "X_predict = list(rand.predict(X_test))\n",
    "predicted_df = {'predicted_values': X_predict,'original_values': Y_test}\n",
    "print(pd.DataFrame(predicted_df).head(10))\n",
    "print('')\n",
    "print('Here O = not survived and 1 = survived')"
   ]
  },
  {
   "cell_type": "markdown",
   "metadata": {},
   "source": [
    "##### Random Forest Classifier predicts all the survivers correctly."
   ]
  }
 ],
 "metadata": {
  "kernelspec": {
   "display_name": "Python 3 (ipykernel)",
   "language": "python",
   "name": "python3"
  },
  "language_info": {
   "codemirror_mode": {
    "name": "ipython",
    "version": 3
   },
   "file_extension": ".py",
   "mimetype": "text/x-python",
   "name": "python",
   "nbconvert_exporter": "python",
   "pygments_lexer": "ipython3",
   "version": "3.9.12"
  }
 },
 "nbformat": 4,
 "nbformat_minor": 4
}
